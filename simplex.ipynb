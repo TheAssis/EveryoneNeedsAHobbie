{
  "nbformat": 4,
  "nbformat_minor": 0,
  "metadata": {
    "colab": {
      "name": "simplex.ipynb",
      "version": "0.3.2",
      "provenance": [],
      "include_colab_link": true
    },
    "kernelspec": {
      "name": "python3",
      "display_name": "Python 3"
    }
  },
  "cells": [
    {
      "cell_type": "markdown",
      "metadata": {
        "id": "view-in-github",
        "colab_type": "text"
      },
      "source": [
        "<a href=\"https://colab.research.google.com/github/mtxslv/EveryoneNeedsAHobbie/blob/master/simplex.ipynb\" target=\"_parent\"><img src=\"https://colab.research.google.com/assets/colab-badge.svg\" alt=\"Open In Colab\"/></a>"
      ]
    },
    {
      "cell_type": "markdown",
      "metadata": {
        "id": "y3eKdvw06hl5",
        "colab_type": "text"
      },
      "source": [
        "For optimization problems, we need to delimitate a method, called simplex. I will write it down here, but it will be writed again in MatLab, Scilab, etc."
      ]
    },
    {
      "cell_type": "markdown",
      "metadata": {
        "id": "GeAFkIAn6wA0",
        "colab_type": "text"
      },
      "source": [
        "Our goal is to maximize (or minimize) a function z given by \n",
        "> $z = \\sum_{j = 1}^{n}c_jx_j$\n",
        "\n",
        "This function is called **objective function** and is limited by the following inequations:\n",
        "> $\\sum_{j = 1}^{n}a_{ij}x_j \\leq b_i ,(i=1,...,m) \\land x_j \\geq 0, (j=1...n)$\n",
        "\n",
        "First of all, we need to add one slack variable inside each inequality. It will change the system of inequations, leading to the next system:\n",
        "\n",
        ">$\\sum_{j = 1}^{n}a_{ij}x_j + x_{n+i} = b_i ,(i=1,...,m) \\land x_{n+i} \\geq 0, (j=1...n)$\n",
        "\n",
        "After that, we put the right member of z to the left side and get:\n",
        "> $z - \\sum_{j = 1}^{n}c_jx_j = 0$\n",
        "\n",
        "If we suppose there are $0z's$ in each of the constraints equations and $0x_{n+i}$, we can get the system:\n",
        "> $z - \\sum_{j = 1}^{n}c_jx_j + 0x_{n+i}= 0 \\\\\n",
        "0z + \\sum_{j = 1}^{n}a_{ij}x_j + x_{n+i} = b_i $\n",
        "\n",
        "This last system can go into a matrix, and from there we delimitate our algorithm.\n"
      ]
    },
    {
      "cell_type": "code",
      "metadata": {
        "id": "IB0ynjPH-_HZ",
        "colab_type": "code",
        "colab": {}
      },
      "source": [
        ""
      ],
      "execution_count": 0,
      "outputs": []
    },
    {
      "cell_type": "code",
      "metadata": {
        "id": "2Lm4SDd-6vIh",
        "colab_type": "code",
        "colab": {}
      },
      "source": [
        ""
      ],
      "execution_count": 0,
      "outputs": []
    },
    {
      "cell_type": "code",
      "metadata": {
        "id": "ri8kVhMG6dKW",
        "colab_type": "code",
        "colab": {}
      },
      "source": [
        ""
      ],
      "execution_count": 0,
      "outputs": []
    }
  ]
}