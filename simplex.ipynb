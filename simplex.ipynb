{
  "nbformat": 4,
  "nbformat_minor": 0,
  "metadata": {
    "colab": {
      "name": "simplex.ipynb",
      "version": "0.3.2",
      "provenance": [],
      "include_colab_link": true
    },
    "kernelspec": {
      "name": "python3",
      "display_name": "Python 3"
    }
  },
  "cells": [
    {
      "cell_type": "markdown",
      "metadata": {
        "id": "view-in-github",
        "colab_type": "text"
      },
      "source": [
        "<a href=\"https://colab.research.google.com/github/mtxslv/EveryoneNeedsAHobbie/blob/master/simplex.ipynb\" target=\"_parent\"><img src=\"https://colab.research.google.com/assets/colab-badge.svg\" alt=\"Open In Colab\"/></a>"
      ]
    },
    {
      "cell_type": "markdown",
      "metadata": {
        "id": "y3eKdvw06hl5",
        "colab_type": "text"
      },
      "source": [
        "For optimization problems, we need to delimitate a method, called simplex. I will write it down here, but it will be writed again in MatLab, Scilab, etc."
      ]
    },
    {
      "cell_type": "markdown",
      "metadata": {
        "id": "GeAFkIAn6wA0",
        "colab_type": "text"
      },
      "source": [
        "Our goal is to maximize (or minimize) a function z given by \n",
        "> $z = \\sum_{j = 1}^{n}c_jx_j$\n",
        "\n",
        "This function is called **objective function** and is limited by the following inequations:\n",
        "> $\\sum_{j = 1}^{n}a_{ij}x_j \\leq b_i ,(i=1,...,m) \\land x_j \\geq 0, (j=1...n)$\n",
        "\n",
        "First of all, we need to add one slack variable inside each inequality. It will change the system of inequations, leading to the next system:\n",
        "\n",
        ">$\\sum_{j = 1}^{n}a_{ij}x_j + x_{n+i} = b_i ,(i=1,...,m) \\land x_{n+i} \\geq 0, (j=1...n)$\n",
        "\n",
        "After that, we put the right member of z to the left side and get:\n",
        "> $z - \\sum_{j = 1}^{n}c_jx_j = 0$\n",
        "\n",
        "If we suppose there are $0z's$ in each of the constraints equations and $0x_{n+i}$, we can get the system:\n",
        "> $z - \\sum_{j = 1}^{n}c_jx_j + 0x_{n+i}= 0 \\\\\n",
        "0z + \\sum_{j = 1}^{n}a_{ij}x_j + x_{n+i} = b_i $\n",
        "\n",
        "This last system can go into a matrix, and from there we delimitate our algorithm.\n"
      ]
    },
    {
      "cell_type": "markdown",
      "metadata": {
        "id": "0HL1lsrAEyIs",
        "colab_type": "text"
      },
      "source": [
        "In this first moment, we will consider our algorithm **just solves maximization problems**."
      ]
    },
    {
      "cell_type": "code",
      "metadata": {
        "id": "Fq950TmsGkUF",
        "colab_type": "code",
        "colab": {}
      },
      "source": [
        "#important importation\n",
        "import numpy as np"
      ],
      "execution_count": 0,
      "outputs": []
    },
    {
      "cell_type": "code",
      "metadata": {
        "id": "AIIhVo98EHx3",
        "colab_type": "code",
        "colab": {}
      },
      "source": [
        "def simplex(tabela, num_var_basic):\n",
        "  \"\"\"\n",
        "  input\n",
        "    tabela: a matriz aumentada, na forma canônica, que contém a coluna da variável independente z.\n",
        "            A última coluna é considerada a dos termos idependentes\n",
        "    num_var_basic: a quantidade de variáveis básicas na matriz canônica aumentada.\n",
        "  output\n",
        "    o valor ótimo de z.\n",
        "  \"\"\"\n",
        "  import numpy as np\n",
        "  # vamos definir algumas variáveis\n",
        "  \n",
        "  # matriz a ser iterada\n",
        "  matriz = tabela[:,1:]\n",
        "  print(matriz)\n",
        "  \n",
        "  # vetor dos termos limitantes\n",
        "  q = matriz[:,-1]\n",
        "  print(q)\n",
        "  \n",
        "  #vetor que contém as colunas das variáveis básicas:\n",
        "  # Tenha cuidado! estamos lidando com a matriz, não com a tabela. \n",
        "  # Logo, estamos com uma coluna a menos. Além disso, as colunas começam\n",
        "  # com 0\n",
        "  base = np.array(np.arange(num_var_basic,matriz.shape[1]-1)) \n",
        "  print(base)\n",
        "  \n",
        "  # Enquanto ouver valores negativos na primeira linha da matriz, \n",
        "  # o algoritmo ainda não achou o ótimo da função\n",
        "  while(np.amin(matriz[0,:])<0):\n",
        "    #print(\"heythere\")\n",
        "    # Primeiro passo é achar a variável não básica que deve entrar na base\n",
        "    pra_entrar = matriz[0,:].argmin() \n",
        "    # Depois é achar quem sai\n",
        "    l = (matriz[:,-1]/matriz[:,pra_entrar]).argmin() # l é a linha da variável que vai sair\n",
        "    \n",
        "    # tornar o pivô igual a 1\n",
        "    matriz[l,:] = matriz[l,:]/matriz[l,pra_entrar]    \n",
        "  \n",
        "    #agora é só zerar a coluna\n",
        "    for p in range(matriz.shape[0]):\n",
        "      if (p!=l):\n",
        "        print(\"cheguei qui\")\n",
        "        matriz[p,:] = matriz[p,:] - matriz[p,:]*(matriz[p,pra_entrar]/matriz[l,pra_entrar])\n",
        "  print(matriz)\n",
        "  return matriz[0,-1]      \n",
        "        "
      ],
      "execution_count": 0,
      "outputs": []
    },
    {
      "cell_type": "code",
      "metadata": {
        "id": "aFtF3jO_Fk0D",
        "colab_type": "code",
        "colab": {
          "base_uri": "https://localhost:8080/",
          "height": 312
        },
        "outputId": "d65d0ee2-04fc-4749-f0fe-ef052cebb768"
      },
      "source": [
        "tabela_teste = np.array([[1, -12, -15, 0, 0, 0, 0, 0],\n",
        "                [0, 1, 0, 1, 0, 0, 0, 3],\n",
        "                [0, 0, 1, 0, 1, 0, 0, 4],\n",
        "                [0, 1, 1, 0, 0, 1, 0,6],\n",
        "                [0, 1, 3, 0, 0, 0, 1, 13]])\n",
        "n_var_basic_test = 2\n",
        "\n",
        "a =simplex(tabela_teste, n_var_basic_test)"
      ],
      "execution_count": 35,
      "outputs": [
        {
          "output_type": "stream",
          "text": [
            "[[-12 -15   0   0   0   0   0]\n",
            " [  1   0   1   0   0   0   3]\n",
            " [  0   1   0   1   0   0   4]\n",
            " [  1   1   0   0   1   0   6]\n",
            " [  1   3   0   0   0   1  13]]\n",
            "[ 0  3  4  6 13]\n",
            "[2 3 4 5]\n",
            "cheguei qui\n",
            "cheguei qui\n",
            "cheguei qui\n",
            "cheguei qui\n",
            "[[  0   1   0   0   0   0   0]\n",
            " [  1   0   1   0   0   0   3]\n",
            " [  0   0   0   0   0   0   0]\n",
            " [  0   0   0   0   0   0   0]\n",
            " [ -2  -6   0   0   0  -2 -26]]\n"
          ],
          "name": "stdout"
        },
        {
          "output_type": "stream",
          "text": [
            "/usr/local/lib/python3.6/dist-packages/ipykernel_launcher.py:35: RuntimeWarning: divide by zero encountered in true_divide\n"
          ],
          "name": "stderr"
        }
      ]
    },
    {
      "cell_type": "code",
      "metadata": {
        "id": "LU0h6bF_M_CJ",
        "colab_type": "code",
        "colab": {
          "base_uri": "https://localhost:8080/",
          "height": 34
        },
        "outputId": "164960d5-3423-4bcc-afa7-03f4e5d8d925"
      },
      "source": [
        "a"
      ],
      "execution_count": 31,
      "outputs": [
        {
          "output_type": "execute_result",
          "data": {
            "text/plain": [
              "0"
            ]
          },
          "metadata": {
            "tags": []
          },
          "execution_count": 31
        }
      ]
    },
    {
      "cell_type": "code",
      "metadata": {
        "id": "uUXoXU-LHgOK",
        "colab_type": "code",
        "colab": {
          "base_uri": "https://localhost:8080/",
          "height": 69
        },
        "outputId": "cd52c228-62d6-4108-accc-de157b1c9b5d"
      },
      "source": [
        "(tabela_teste[1:,-1] / tabela_teste[1:,2])"
      ],
      "execution_count": 21,
      "outputs": [
        {
          "output_type": "stream",
          "text": [
            "/usr/local/lib/python3.6/dist-packages/ipykernel_launcher.py:1: RuntimeWarning: divide by zero encountered in true_divide\n",
            "  \"\"\"Entry point for launching an IPython kernel.\n"
          ],
          "name": "stderr"
        },
        {
          "output_type": "execute_result",
          "data": {
            "text/plain": [
              "array([       inf, 4.        , 6.        , 4.33333333])"
            ]
          },
          "metadata": {
            "tags": []
          },
          "execution_count": 21
        }
      ]
    },
    {
      "cell_type": "code",
      "metadata": {
        "id": "GzB7fiSyNjgL",
        "colab_type": "code",
        "colab": {
          "base_uri": "https://localhost:8080/",
          "height": 69
        },
        "outputId": "40f684a9-c3a3-409e-c1b5-48bbaa956701"
      },
      "source": [
        "(tabela_teste[1:,-1] / tabela_teste[1:,2]).argmin()"
      ],
      "execution_count": 22,
      "outputs": [
        {
          "output_type": "stream",
          "text": [
            "/usr/local/lib/python3.6/dist-packages/ipykernel_launcher.py:1: RuntimeWarning: divide by zero encountered in true_divide\n",
            "  \"\"\"Entry point for launching an IPython kernel.\n"
          ],
          "name": "stderr"
        },
        {
          "output_type": "execute_result",
          "data": {
            "text/plain": [
              "1"
            ]
          },
          "metadata": {
            "tags": []
          },
          "execution_count": 22
        }
      ]
    }
  ]
}