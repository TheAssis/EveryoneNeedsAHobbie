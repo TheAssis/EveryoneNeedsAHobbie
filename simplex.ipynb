{
  "nbformat": 4,
  "nbformat_minor": 0,
  "metadata": {
    "colab": {
      "name": "simplex.ipynb",
      "version": "0.3.2",
      "provenance": [],
      "include_colab_link": true
    },
    "kernelspec": {
      "name": "python3",
      "display_name": "Python 3"
    }
  },
  "cells": [
    {
      "cell_type": "markdown",
      "metadata": {
        "id": "view-in-github",
        "colab_type": "text"
      },
      "source": [
        "<a href=\"https://colab.research.google.com/github/mtxslv/EveryoneNeedsAHobbie/blob/master/simplex.ipynb\" target=\"_parent\"><img src=\"https://colab.research.google.com/assets/colab-badge.svg\" alt=\"Open In Colab\"/></a>"
      ]
    },
    {
      "cell_type": "markdown",
      "metadata": {
        "id": "y3eKdvw06hl5",
        "colab_type": "text"
      },
      "source": [
        "For optimization problems, we need to delimitate a method, called simplex. I will write it down here, but it will be writed again in MatLab, Scilab, etc."
      ]
    },
    {
      "cell_type": "markdown",
      "metadata": {
        "id": "GeAFkIAn6wA0",
        "colab_type": "text"
      },
      "source": [
        "Our goal is to maximize (or minimize) a function z given by \n",
        "> $z = \\sum_{j = 1}^{n}c_jx_j$\n",
        "\n",
        "This function is called **objective function** and is limited by the following inequations:\n",
        "> $\\sum_{j = 1}^{n}a_{ij}x_j \\leq b_i ,(i=1,...,m) \\land x_j \\geq 0, (j=1...n)$\n",
        "\n",
        "First of all, we need to add one slack variable inside each inequality. It will change the system of inequations, leading to the next system:\n",
        "\n",
        ">$\\sum_{j = 1}^{n}a_{ij}x_j + x_{n+i} = b_i ,(i=1,...,m) \\land x_{n+i} \\geq 0, (j=1...n)$\n",
        "\n",
        "After that, we put the right member of z to the left side and get:\n",
        "> $z - \\sum_{j = 1}^{n}c_jx_j = 0$\n",
        "\n",
        "If we suppose there are $0z's$ in each of the constraints equations and $0x_{n+i}$, we can get the system:\n",
        "> $z - \\sum_{j = 1}^{n}c_jx_j + 0x_{n+i}= 0 \\\\\n",
        "0z + \\sum_{j = 1}^{n}a_{ij}x_j + x_{n+i} = b_i $\n",
        "\n",
        "This last system can go into a matrix, and from there we delimitate our algorithm.\n"
      ]
    },
    {
      "cell_type": "markdown",
      "metadata": {
        "id": "0HL1lsrAEyIs",
        "colab_type": "text"
      },
      "source": [
        "In this first moment, we will consider our algorithm **just solves maximization problems**."
      ]
    },
    {
      "cell_type": "markdown",
      "metadata": {
        "id": "yf833eJW-k0k",
        "colab_type": "text"
      },
      "source": [
        "In order to create this code, we need to deal with a lot of issues.\n",
        "> Division by zero must [return a great value](https://docs.python.org/2/library/functions.html#max)\n",
        "\n",
        "> While looking for the minimum limitant, we cannot return negative values. We nest [maximum](https://docs.scipy.org/doc/numpy/reference/generated/numpy.maximum.html) and a [argmin](https://docs.scipy.org/doc/numpy/reference/generated/numpy.argmin.html#numpy.argmin) to deal with this issue.\n",
        "\n",
        ">"
      ]
    },
    {
      "cell_type": "code",
      "metadata": {
        "id": "Fq950TmsGkUF",
        "colab_type": "code",
        "colab": {}
      },
      "source": [
        "#important importation\n",
        "import numpy as np"
      ],
      "execution_count": 0,
      "outputs": []
    },
    {
      "cell_type": "code",
      "metadata": {
        "id": "D7e8Nt3h5VHG",
        "colab_type": "code",
        "colab": {}
      },
      "source": [
        "# we are going to deal with division by zero, sometimes. \n",
        "# In order to handle this issue, let's define our division function\n",
        "\n",
        "def my_division(a,b): # a/b\n",
        "  import numpy as np\n",
        "  import sys\n",
        "  c = np.ones(a.shape)\n",
        "  #print(a)\n",
        "  #print(b)\n",
        "  for i in range(a.shape[0]):\n",
        "    if (b[i] == 0):\n",
        "      c[i] = sys.float_info.max\n",
        "    else:\n",
        "      c[i] = a[i]/b[i]\n",
        "  return c"
      ],
      "execution_count": 0,
      "outputs": []
    },
    {
      "cell_type": "code",
      "metadata": {
        "id": "AIIhVo98EHx3",
        "colab_type": "code",
        "colab": {}
      },
      "source": [
        "def simplex(tabela, num_var_basic):\n",
        "  \"\"\"\n",
        "  input\n",
        "    tabela: a matriz aumentada, na forma canônica, que contém a coluna da variável independente z.\n",
        "            A última coluna é considerada a dos termos idependentes\n",
        "    num_var_basic: a quantidade de variáveis básicas na matriz canônica aumentada.\n",
        "  output\n",
        "    o valor ótimo de z.\n",
        "  \"\"\"\n",
        "  import numpy as np\n",
        "  # vamos definir algumas variáveis\n",
        "  contador = 0\n",
        "  # matriz a ser iterada\n",
        "  mat = tabela[:,1:]\n",
        "\n",
        "  \n",
        "  #vetor das variáveis básicas\n",
        "  # Tenha cuidado! estamos lidando com a matriz, não com a tabela. \n",
        "  # Logo, estamos com uma coluna a menos. Além disso, as colunas começam\n",
        "  # com 0\n",
        "  basis = np.array( range(num_var_basic, mat.shape[1]-num_var_basic+1 ) )\n",
        "  \n",
        "  # inicialização do vetor dos termos limitantes\n",
        "  q = mat[:,-1]\n",
        "\n",
        "  while(np.amin(mat[0,:])<0):\n",
        "    \n",
        "    if(contador == 6):\n",
        "      break\n",
        "    \n",
        "    i = np.argmin(mat[0,:]) # i é a coluna da variável que vai entrar na base \n",
        "    q = my_division(mat[1:,-1],mat[1:,i]) # definindo os termos limitantes\n",
        "    l = np.argmin( np.maximum(np.zeros(q.shape),q) )# the looking for the minimum limitant can just return non negativa values\n",
        "                                                    # l means \"the basis in this line will be casted out\"\n",
        "    mat[l+1,:] = mat[l+1,:]/mat[l+1,i]  # garantir que o termo pivô é unitário\n",
        "    # pivoting the column\n",
        "    for it in range(mat.shape[0]):\n",
        "      if(it!=l+1):\n",
        "        mat[it,:] = mat[it,:] - (mat[it,i])*mat[l+1,:]  \n",
        "    basis[l] = i # aqui atualizamos a nova base, esse deve ser  o último passo\n",
        "     \n",
        "    print(mat)\n",
        "    print(np.maximum(np.zeros(q.shape),q))\n",
        "    print(\"contador =\", contador)\n",
        "    \n",
        "    contador = contador + 1\n",
        "  return mat\n",
        "     "
      ],
      "execution_count": 0,
      "outputs": []
    },
    {
      "cell_type": "code",
      "metadata": {
        "id": "aFtF3jO_Fk0D",
        "colab_type": "code",
        "colab": {}
      },
      "source": [
        "tabela_teste = np.array([[1, -12, -15, 0, 0, 0, 0, 0],\n",
        "                [0, 1, 0, 1, 0, 0, 0, 3],\n",
        "                [0, 0, 1, 0, 1, 0, 0, 4],\n",
        "                [0, 1, 1, 0, 0, 1, 0,6],\n",
        "                [0, 1, 3, 0, 0, 0, 1, 13]])\n",
        "n_var_basic_test = 2\n"
      ],
      "execution_count": 0,
      "outputs": []
    },
    {
      "cell_type": "code",
      "metadata": {
        "id": "ErEBxMFMGKOh",
        "colab_type": "code",
        "colab": {
          "base_uri": "https://localhost:8080/",
          "height": 382
        },
        "outputId": "63466482-0f19-47fb-a0a2-8c57fd24a1f4"
      },
      "source": [
        "resposta = simplex(tabela_teste,n_var_basic_test)"
      ],
      "execution_count": 112,
      "outputs": [
        {
          "output_type": "stream",
          "text": [
            "[[-12   0   0  15   0   0  60]\n",
            " [  1   0   1   0   0   0   3]\n",
            " [  0   1   0   1   0   0   4]\n",
            " [  1   0   0  -1   1   0   2]\n",
            " [  1   0   0  -3   0   1   1]]\n",
            "[1.79769313e+308 4.00000000e+000 6.00000000e+000 4.33333333e+000]\n",
            "contador = 0\n",
            "[[  0   0   0 -21   0  12  72]\n",
            " [  0   0   1   3   0  -1   2]\n",
            " [  0   1   0   1   0   0   4]\n",
            " [  0   0   0   2   1  -1   1]\n",
            " [  1   0   0  -3   0   1   1]]\n",
            "[3.00000000e+000 1.79769313e+308 2.00000000e+000 1.00000000e+000]\n",
            "contador = 1\n",
            "[[ 0  0  0  0  0 12 72]\n",
            " [ 0  0  1  0  0 -1  2]\n",
            " [ 0  1  0  0  0  0  4]\n",
            " [ 0  0  0  0  1 -1  1]\n",
            " [ 0  0  0  1  0  0  0]]\n",
            "[0.66666667 4.         0.5        0.        ]\n",
            "contador = 2\n"
          ],
          "name": "stdout"
        }
      ]
    },
    {
      "cell_type": "code",
      "metadata": {
        "id": "brY16n66Gl0h",
        "colab_type": "code",
        "colab": {
          "base_uri": "https://localhost:8080/",
          "height": 104
        },
        "outputId": "80bafd8e-a93c-4ca3-83d6-e52aa1c1c748"
      },
      "source": [
        "resposta"
      ],
      "execution_count": 100,
      "outputs": [
        {
          "output_type": "execute_result",
          "data": {
            "text/plain": [
              "array([[ 0,  0,  0,  0,  0, 12, 72],\n",
              "       [ 0,  0,  1,  0,  0, -1,  2],\n",
              "       [ 0,  1,  0,  0,  0,  0,  4],\n",
              "       [ 0,  0,  0,  0,  1, -1,  1],\n",
              "       [ 0,  0,  0,  1,  0,  0,  0]])"
            ]
          },
          "metadata": {
            "tags": []
          },
          "execution_count": 100
        }
      ]
    },
    {
      "cell_type": "code",
      "metadata": {
        "id": "JyTabhLv3W88",
        "colab_type": "code",
        "colab": {
          "base_uri": "https://localhost:8080/",
          "height": 104
        },
        "outputId": "3053aa50-5cff-4f35-ae30-10b62471a376"
      },
      "source": [
        "mat = tabela_teste[:,1:]\n",
        "mat"
      ],
      "execution_count": 101,
      "outputs": [
        {
          "output_type": "execute_result",
          "data": {
            "text/plain": [
              "array([[ 0,  0,  0,  0,  0, 12, 72],\n",
              "       [ 0,  0,  1,  0,  0, -1,  2],\n",
              "       [ 0,  1,  0,  0,  0,  0,  4],\n",
              "       [ 0,  0,  0,  0,  1, -1,  1],\n",
              "       [ 0,  0,  0,  1,  0,  0,  0]])"
            ]
          },
          "metadata": {
            "tags": []
          },
          "execution_count": 101
        }
      ]
    },
    {
      "cell_type": "code",
      "metadata": {
        "id": "1R1tl9t-AWCt",
        "colab_type": "code",
        "colab": {
          "base_uri": "https://localhost:8080/",
          "height": 34
        },
        "outputId": "a0ef1635-0d0e-4917-ee47-14930a5e039c"
      },
      "source": [
        "basis = np.array(range(2, mat.shape[1] - 2+1 )) # basis = np.array( range(num_var, mat.shape[1]-num_var+1 ) )\n",
        "basis # B maps the columns of the basis variables. The first element is two (2). It means that the variable\n",
        "# of column 2 guides that line. "
      ],
      "execution_count": 102,
      "outputs": [
        {
          "output_type": "execute_result",
          "data": {
            "text/plain": [
              "array([2, 3, 4, 5])"
            ]
          },
          "metadata": {
            "tags": []
          },
          "execution_count": 102
        }
      ]
    },
    {
      "cell_type": "code",
      "metadata": {
        "id": "8XoB81Xo4RIR",
        "colab_type": "code",
        "colab": {
          "base_uri": "https://localhost:8080/",
          "height": 34
        },
        "outputId": "718ee92f-dd24-461b-9004-90b0cbd27e1e"
      },
      "source": [
        "i = np.argmin(mat[0,:])# i é a coluna da variável que vai entrar na base \n",
        "i"
      ],
      "execution_count": 103,
      "outputs": [
        {
          "output_type": "execute_result",
          "data": {
            "text/plain": [
              "0"
            ]
          },
          "metadata": {
            "tags": []
          },
          "execution_count": 103
        }
      ]
    },
    {
      "cell_type": "code",
      "metadata": {
        "id": "v44Gmk9L6IN9",
        "colab_type": "code",
        "colab": {
          "base_uri": "https://localhost:8080/",
          "height": 34
        },
        "outputId": "70b9d5b5-a0c2-4e73-d17d-c3f645c2c921"
      },
      "source": [
        "ans = my_division(mat[1:,-1],mat[1:,i])\n",
        "print(ans)"
      ],
      "execution_count": 104,
      "outputs": [
        {
          "output_type": "stream",
          "text": [
            "[1.79769313e+308 1.79769313e+308 1.79769313e+308 1.79769313e+308]\n"
          ],
          "name": "stdout"
        }
      ]
    },
    {
      "cell_type": "code",
      "metadata": {
        "id": "kutOiEjv9yCd",
        "colab_type": "code",
        "colab": {
          "base_uri": "https://localhost:8080/",
          "height": 34
        },
        "outputId": "0b7683f7-13bb-4a5d-bd8f-41c36bea1113"
      },
      "source": [
        "l = np.argmin( np.maximum(np.zeros(ans.shape),ans) )# the looking for the minimum limitant can just return non negativa values\n",
        "# l means \"the basis in this line will be casted out\"\n",
        "l"
      ],
      "execution_count": 105,
      "outputs": [
        {
          "output_type": "execute_result",
          "data": {
            "text/plain": [
              "0"
            ]
          },
          "metadata": {
            "tags": []
          },
          "execution_count": 105
        }
      ]
    },
    {
      "cell_type": "code",
      "metadata": {
        "id": "7BsOp9LBCll9",
        "colab_type": "code",
        "colab": {
          "base_uri": "https://localhost:8080/",
          "height": 173
        },
        "outputId": "2e7fbc6b-2fe0-4a76-b2f6-fa4f00fe78c9"
      },
      "source": [
        "mat[l+1,i] # mat[l+1,i], é l+1 pois consideramos a linha zero da \n",
        "           # tabela como a linha zero da matriz. Logo, as linhas estão sempre defasadas de 1 \n",
        "print(mat)\n",
        "mat[l+1,:] = mat[l+1,:]/mat[l+1,i]  # garantir que o termo pivô é unitário"
      ],
      "execution_count": 106,
      "outputs": [
        {
          "output_type": "stream",
          "text": [
            "[[ 0  0  0  0  0 12 72]\n",
            " [ 0  0  1  0  0 -1  2]\n",
            " [ 0  1  0  0  0  0  4]\n",
            " [ 0  0  0  0  1 -1  1]\n",
            " [ 0  0  0  1  0  0  0]]\n"
          ],
          "name": "stdout"
        },
        {
          "output_type": "stream",
          "text": [
            "/usr/local/lib/python3.6/dist-packages/ipykernel_launcher.py:4: RuntimeWarning: divide by zero encountered in true_divide\n",
            "  after removing the cwd from sys.path.\n",
            "/usr/local/lib/python3.6/dist-packages/ipykernel_launcher.py:4: RuntimeWarning: invalid value encountered in true_divide\n",
            "  after removing the cwd from sys.path.\n"
          ],
          "name": "stderr"
        }
      ]
    },
    {
      "cell_type": "code",
      "metadata": {
        "id": "g2cX2cETEBBn",
        "colab_type": "code",
        "colab": {
          "base_uri": "https://localhost:8080/",
          "height": 52
        },
        "outputId": "33d7e8ac-a14a-4012-dd35-00ab2ce48a75"
      },
      "source": [
        "mat[1,:] + 0.5*mat[2,:]"
      ],
      "execution_count": 107,
      "outputs": [
        {
          "output_type": "execute_result",
          "data": {
            "text/plain": [
              "array([-9.22337204e+18, -9.22337204e+18, -9.22337204e+18, -9.22337204e+18,\n",
              "       -9.22337204e+18, -9.22337204e+18, -9.22337204e+18])"
            ]
          },
          "metadata": {
            "tags": []
          },
          "execution_count": 107
        }
      ]
    },
    {
      "cell_type": "code",
      "metadata": {
        "id": "aoE9J4DtDuoy",
        "colab_type": "code",
        "colab": {
          "base_uri": "https://localhost:8080/",
          "height": 278
        },
        "outputId": "6abc48eb-e1a9-45f0-9b5c-206660e981f3"
      },
      "source": [
        "for it in range(mat.shape[0]):\n",
        "  if(it!=l+1):\n",
        "    mat[it,:] = mat[it,:] - (mat[it,i])*mat[l+1,:]\n",
        "mat"
      ],
      "execution_count": 108,
      "outputs": [
        {
          "output_type": "execute_result",
          "data": {
            "text/plain": [
              "array([[                   0,                    0,                    0,\n",
              "                           0,                    0,                   12,\n",
              "                          72],\n",
              "       [-9223372036854775808, -9223372036854775808, -9223372036854775808,\n",
              "        -9223372036854775808, -9223372036854775808, -9223372036854775808,\n",
              "        -9223372036854775808],\n",
              "       [                   0,                    1,                    0,\n",
              "                           0,                    0,                    0,\n",
              "                           4],\n",
              "       [                   0,                    0,                    0,\n",
              "                           0,                    1,                   -1,\n",
              "                           1],\n",
              "       [                   0,                    0,                    0,\n",
              "                           1,                    0,                    0,\n",
              "                           0]])"
            ]
          },
          "metadata": {
            "tags": []
          },
          "execution_count": 108
        }
      ]
    },
    {
      "cell_type": "code",
      "metadata": {
        "id": "hyGPzeM5CEMH",
        "colab_type": "code",
        "colab": {
          "base_uri": "https://localhost:8080/",
          "height": 34
        },
        "outputId": "6d59333a-a7bd-4593-c967-e2f39d791ed5"
      },
      "source": [
        "basis[l] = i # aqui atualizamos a nova base, esse deve ser  o último passo\n",
        "basis"
      ],
      "execution_count": 109,
      "outputs": [
        {
          "output_type": "execute_result",
          "data": {
            "text/plain": [
              "array([0, 3, 4, 5])"
            ]
          },
          "metadata": {
            "tags": []
          },
          "execution_count": 109
        }
      ]
    }
  ]
}